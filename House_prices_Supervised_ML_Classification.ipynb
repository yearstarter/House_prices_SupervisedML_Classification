{
 "cells": [
  {
   "cell_type": "markdown",
   "metadata": {
    "id": "1GQ10enXRUpe",
    "jp-MarkdownHeadingCollapsed": true,
    "tags": []
   },
   "source": [
    "# Dataset variables description"
   ]
  },
  {
   "cell_type": "markdown",
   "metadata": {
    "id": "IxH28u9-Ra3x"
   },
   "source": [
    "MSSubClass: Identifies the type of dwelling involved in the sale.\n",
    "\n",
    "        20\t1-STORY 1946 & NEWER ALL STYLES\n",
    "        30\t1-STORY 1945 & OLDER\n",
    "        40\t1-STORY W/FINISHED ATTIC ALL AGES\n",
    "        45\t1-1/2 STORY - UNFINISHED ALL AGES\n",
    "        50\t1-1/2 STORY FINISHED ALL AGES\n",
    "        60\t2-STORY 1946 & NEWER\n",
    "        70\t2-STORY 1945 & OLDER\n",
    "        75\t2-1/2 STORY ALL AGES\n",
    "        80\tSPLIT OR MULTI-LEVEL\n",
    "        85\tSPLIT FOYER\n",
    "        90\tDUPLEX - ALL STYLES AND AGES\n",
    "       120\t1-STORY PUD (Planned Unit Development) - 1946 & NEWER\n",
    "       150\t1-1/2 STORY PUD - ALL AGES\n",
    "       160\t2-STORY PUD - 1946 & NEWER\n",
    "       180\tPUD - MULTILEVEL - INCL SPLIT LEV/FOYER\n",
    "       190\t2 FAMILY CONVERSION - ALL STYLES AND AGES\n",
    "\n",
    "MSZoning: Identifies the general zoning classification of the sale.\n",
    "\n",
    "       A\tAgriculture\n",
    "       C\tCommercial\n",
    "       FV\tFloating Village Residential\n",
    "       I\tIndustrial\n",
    "       RH\tResidential High Density\n",
    "       RL\tResidential Low Density\n",
    "       RP\tResidential Low Density Park\n",
    "       RM\tResidential Medium Density\n",
    "\n",
    "LotFrontage: Linear feet of street connected to property\n",
    "\n",
    "LotArea: Lot size in square feet\n",
    "\n",
    "Street: Type of road access to property\n",
    "\n",
    "       Grvl\tGravel\n",
    "       Pave\tPaved\n",
    "\n",
    "Alley: Type of alley access to property\n",
    "\n",
    "       Grvl\tGravel\n",
    "       Pave\tPaved\n",
    "       NA \tNo alley access\n",
    "\n",
    "LotShape: General shape of property\n",
    "\n",
    "       Reg\tRegular\n",
    "       IR1\tSlightly irregular\n",
    "       IR2\tModerately Irregular\n",
    "       IR3\tIrregular\n",
    "       \n",
    "LandContour: Flatness of the property\n",
    "\n",
    "       Lvl\tNear Flat/Level\n",
    "       Bnk\tBanked - Quick and significant rise from street grade to building\n",
    "       HLS\tHillside - Significant slope from side to side\n",
    "       Low\tDepression\n",
    "\n",
    "Utilities: Type of utilities available\n",
    "\n",
    "       AllPub\tAll public Utilities (E,G,W,& S)\n",
    "       NoSewr\tElectricity, Gas, and Water (Septic Tank)\n",
    "       NoSeWa\tElectricity and Gas Only\n",
    "       ELO\tElectricity only\n",
    "\n",
    "LotConfig: Lot configuration\n",
    "\n",
    "       Inside\tInside lot\n",
    "       Corner\tCorner lot\n",
    "       CulDSac\tCul-de-sac\n",
    "       FR2\tFrontage on 2 sides of property\n",
    "       FR3\tFrontage on 3 sides of property\n",
    "\n",
    "LandSlope: Slope of property\n",
    "\n",
    "       Gtl\tGentle slope\n",
    "       Mod\tModerate Slope\n",
    "       Sev\tSevere Slope\n",
    "\n",
    "Neighborhood: Physical locations within Ames city limits\n",
    "\n",
    "       Blmngtn\tBloomington Heights\n",
    "       Blueste\tBluestem\n",
    "       BrDale\tBriardale\n",
    "       BrkSide\tBrookside\n",
    "       ClearCr\tClear Creek\n",
    "       CollgCr\tCollege Creek\n",
    "       Crawfor\tCrawford\n",
    "       Edwards\tEdwards\n",
    "       Gilbert\tGilbert\n",
    "       IDOTRR\tIowa DOT and Rail Road\n",
    "       MeadowV\tMeadow Village\n",
    "       Mitchel\tMitchell\n",
    "       Names\tNorth Ames\n",
    "       NoRidge\tNorthridge\n",
    "       NPkVill\tNorthpark Villa\n",
    "       NridgHt\tNorthridge Heights\n",
    "       NWAmes\tNorthwest Ames\n",
    "       OldTown\tOld Town\n",
    "       SWISU\tSouth & West of Iowa State University\n",
    "       Sawyer\tSawyer\n",
    "       SawyerW\tSawyer West\n",
    "       Somerst\tSomerset\n",
    "       StoneBr\tStone Brook\n",
    "       Timber\tTimberland\n",
    "       Veenker\tVeenker\n",
    "\n",
    "Condition1: Proximity to various conditions\n",
    "\n",
    "       Artery\tAdjacent to arterial street\n",
    "       Feedr\tAdjacent to feeder street\n",
    "       Norm\tNormal\n",
    "       RRNn\tWithin 200' of North-South Railroad\n",
    "       RRAn\tAdjacent to North-South Railroad\n",
    "       PosN\tNear positive off-site feature--park, greenbelt, etc.\n",
    "       PosA\tAdjacent to postive off-site feature\n",
    "       RRNe\tWithin 200' of East-West Railroad\n",
    "       RRAe\tAdjacent to East-West Railroad\n",
    "\n",
    "Condition2: Proximity to various conditions (if more than one is present)\n",
    "\n",
    "       Artery\tAdjacent to arterial street\n",
    "       Feedr\tAdjacent to feeder street\n",
    "       Norm\tNormal\n",
    "       RRNn\tWithin 200' of North-South Railroad\n",
    "       RRAn\tAdjacent to North-South Railroad\n",
    "       PosN\tNear positive off-site feature--park, greenbelt, etc.\n",
    "       PosA\tAdjacent to postive off-site feature\n",
    "       RRNe\tWithin 200' of East-West Railroad\n",
    "       RRAe\tAdjacent to East-West Railroad\n",
    "\n",
    "BldgType: Type of dwelling\n",
    "\n",
    "       1Fam\tSingle-family Detached\n",
    "       2FmCon\tTwo-family Conversion; originally built as one-family dwelling\n",
    "       Duplx\tDuplex\n",
    "       TwnhsE\tTownhouse End Unit\n",
    "       TwnhsI\tTownhouse Inside Unit\n",
    "\n",
    "HouseStyle: Style of dwelling\n",
    "\n",
    "       1Story\tOne story\n",
    "       1.5Fin\tOne and one-half story: 2nd level finished\n",
    "       1.5Unf\tOne and one-half story: 2nd level unfinished\n",
    "       2Story\tTwo story\n",
    "       2.5Fin\tTwo and one-half story: 2nd level finished\n",
    "       2.5Unf\tTwo and one-half story: 2nd level unfinished\n",
    "       SFoyer\tSplit Foyer\n",
    "       SLvl\tSplit Level\n",
    "\n",
    "OverallQual: Rates the overall material and finish of the house\n",
    "\n",
    "       10\tVery Excellent\n",
    "       9\tExcellent\n",
    "       8\tVery Good\n",
    "       7\tGood\n",
    "       6\tAbove Average\n",
    "       5\tAverage\n",
    "       4\tBelow Average\n",
    "       3\tFair\n",
    "       2\tPoor\n",
    "       1\tVery Poor\n",
    "\n",
    "OverallCond: Rates the overall condition of the house\n",
    "\n",
    "       10\tVery Excellent\n",
    "       9\tExcellent\n",
    "       8\tVery Good\n",
    "       7\tGood\n",
    "       6\tAbove Average\n",
    "       5\tAverage\n",
    "       4\tBelow Average\n",
    "       3\tFair\n",
    "       2\tPoor\n",
    "       1\tVery Poor\n",
    "\n",
    "YearBuilt: Original construction date\n",
    "\n",
    "YearRemodAdd: Remodel date (same as construction date if no remodeling or additions)\n",
    "\n",
    "RoofStyle: Type of roof\n",
    "\n",
    "       Flat\tFlat\n",
    "       Gable\tGable\n",
    "       Gambrel\tGabrel (Barn)\n",
    "       Hip\tHip\n",
    "       Mansard\tMansard\n",
    "       Shed\tShed\n",
    "\n",
    "RoofMatl: Roof material\n",
    "\n",
    "       ClyTile\tClay or Tile\n",
    "       CompShg\tStandard (Composite) Shingle\n",
    "       Membran\tMembrane\n",
    "       Metal\tMetal\n",
    "       Roll\tRoll\n",
    "       Tar&Grv\tGravel & Tar\n",
    "       WdShake\tWood Shakes\n",
    "       WdShngl\tWood Shingles\n",
    "\n",
    "Exterior1st: Exterior covering on house\n",
    "\n",
    "       AsbShng\tAsbestos Shingles\n",
    "       AsphShn\tAsphalt Shingles\n",
    "       BrkComm\tBrick Common\n",
    "       BrkFace\tBrick Face\n",
    "       CBlock\tCinder Block\n",
    "       CemntBd\tCement Board\n",
    "       HdBoard\tHard Board\n",
    "       ImStucc\tImitation Stucco\n",
    "       MetalSd\tMetal Siding\n",
    "       Other\tOther\n",
    "       Plywood\tPlywood\n",
    "       PreCast\tPreCast\n",
    "       Stone\tStone\n",
    "       Stucco\tStucco\n",
    "       VinylSd\tVinyl Siding\n",
    "       Wd Sdng\tWood Siding\n",
    "       WdShing\tWood Shingles\n",
    "\n",
    "Exterior2nd: Exterior covering on house (if more than one material)\n",
    "\n",
    "       AsbShng\tAsbestos Shingles\n",
    "       AsphShn\tAsphalt Shingles\n",
    "       BrkComm\tBrick Common\n",
    "       BrkFace\tBrick Face\n",
    "       CBlock\tCinder Block\n",
    "       CemntBd\tCement Board\n",
    "       HdBoard\tHard Board\n",
    "       ImStucc\tImitation Stucco\n",
    "       MetalSd\tMetal Siding\n",
    "       Other\tOther\n",
    "       Plywood\tPlywood\n",
    "       PreCast\tPreCast\n",
    "       Stone\tStone\n",
    "       Stucco\tStucco\n",
    "       VinylSd\tVinyl Siding\n",
    "       Wd Sdng\tWood Siding\n",
    "       WdShing\tWood Shingles\n",
    "\n",
    "MasVnrType: Masonry veneer type\n",
    "\n",
    "       BrkCmn\tBrick Common\n",
    "       BrkFace\tBrick Face\n",
    "       CBlock\tCinder Block\n",
    "       None\tNone\n",
    "       Stone\tStone\n",
    "\n",
    "MasVnrArea: Masonry veneer area in square feet\n",
    "\n",
    "ExterQual: Evaluates the quality of the material on the exterior\n",
    "\n",
    "       Ex\tExcellent\n",
    "       Gd\tGood\n",
    "       TA\tAverage/Typical\n",
    "       Fa\tFair\n",
    "       Po\tPoor\n",
    "\n",
    "ExterCond: Evaluates the present condition of the material on the exterior\n",
    "\n",
    "       Ex\tExcellent\n",
    "       Gd\tGood\n",
    "       TA\tAverage/Typical\n",
    "       Fa\tFair\n",
    "       Po\tPoor\n",
    "\n",
    "Foundation: Type of foundation\n",
    "\n",
    "       BrkTil\tBrick & Tile\n",
    "       CBlock\tCinder Block\n",
    "       PConc\tPoured Contrete\n",
    "       Slab\tSlab\n",
    "       Stone\tStone\n",
    "       Wood\tWood\n",
    "\n",
    "BsmtQual: Evaluates the height of the basement\n",
    "\n",
    "       Ex\tExcellent (100+ inches)\n",
    "       Gd\tGood (90-99 inches)\n",
    "       TA\tTypical (80-89 inches)\n",
    "       Fa\tFair (70-79 inches)\n",
    "       Po\tPoor (<70 inches)\n",
    "       NA\tNo Basement\n",
    "\n",
    "BsmtCond: Evaluates the general condition of the basement\n",
    "\n",
    "       Ex\tExcellent\n",
    "       Gd\tGood\n",
    "       TA\tTypical - slight dampness allowed\n",
    "       Fa\tFair - dampness or some cracking or settling\n",
    "       Po\tPoor - Severe cracking, settling, or wetness\n",
    "       NA\tNo Basement\n",
    "\n",
    "BsmtExposure: Refers to walkout or garden level walls\n",
    "\n",
    "       Gd\tGood Exposure\n",
    "       Av\tAverage Exposure (split levels or foyers typically score average or above)\n",
    "       Mn\tMimimum Exposure\n",
    "       No\tNo Exposure\n",
    "       NA\tNo Basement\n",
    "\n",
    "BsmtFinType1: Rating of basement finished area\n",
    "\n",
    "       GLQ\tGood Living Quarters\n",
    "       ALQ\tAverage Living Quarters\n",
    "       BLQ\tBelow Average Living Quarters\n",
    "       Rec\tAverage Rec Room\n",
    "       LwQ\tLow Quality\n",
    "       Unf\tUnfinshed\n",
    "       NA\tNo Basement\n",
    "\n",
    "BsmtFinSF1: Type 1 finished square feet\n",
    "\n",
    "BsmtFinType2: Rating of basement finished area (if multiple types)\n",
    "\n",
    "       GLQ\tGood Living Quarters\n",
    "       ALQ\tAverage Living Quarters\n",
    "       BLQ\tBelow Average Living Quarters\n",
    "       Rec\tAverage Rec Room\n",
    "       LwQ\tLow Quality\n",
    "       Unf\tUnfinshed\n",
    "       NA\tNo Basement\n",
    "\n",
    "BsmtFinSF2: Type 2 finished square feet\n",
    "\n",
    "BsmtUnfSF: Unfinished square feet of basement area\n",
    "\n",
    "TotalBsmtSF: Total square feet of basement area\n",
    "\n",
    "Heating: Type of heating\n",
    "\n",
    "       Floor\tFloor Furnace\n",
    "       GasA\tGas forced warm air furnace\n",
    "       GasW\tGas hot water or steam heat\n",
    "       Grav\tGravity furnace\n",
    "       OthW\tHot water or steam heat other than gas\n",
    "       Wall\tWall furnace\n",
    "\n",
    "HeatingQC: Heating quality and condition\n",
    "\n",
    "       Ex\tExcellent\n",
    "       Gd\tGood\n",
    "       TA\tAverage/Typical\n",
    "       Fa\tFair\n",
    "       Po\tPoor\n",
    "\n",
    "CentralAir: Central air conditioning\n",
    "\n",
    "       N\tNo\n",
    "       Y\tYes\n",
    "\n",
    "Electrical: Electrical system\n",
    "\n",
    "       SBrkr\tStandard Circuit Breakers & Romex\n",
    "       FuseA\tFuse Box over 60 AMP and all Romex wiring (Average)\n",
    "       FuseF\t60 AMP Fuse Box and mostly Romex wiring (Fair)\n",
    "       FuseP\t60 AMP Fuse Box and mostly knob & tube wiring (poor)\n",
    "       Mix\tMixed\n",
    "\n",
    "1stFlrSF: First Floor square feet\n",
    "\n",
    "2ndFlrSF: Second floor square feet\n",
    "\n",
    "LowQualFinSF: Low quality finished square feet (all floors)\n",
    "\n",
    "GrLivArea: Above grade (ground) living area square feet\n",
    "\n",
    "BsmtFullBath: Basement full bathrooms\n",
    "\n",
    "BsmtHalfBath: Basement half bathrooms\n",
    "\n",
    "FullBath: Full bathrooms above grade\n",
    "\n",
    "HalfBath: Half baths above grade\n",
    "\n",
    "BedroomAbvGr: Bedrooms above grade (does NOT include basement bedrooms)\n",
    "\n",
    "KitchenAbvGr: Kitchens above grade\n",
    "\n",
    "KitchenQual: Kitchen quality\n",
    "\n",
    "       Ex\tExcellent\n",
    "       Gd\tGood\n",
    "       TA\tTypical/Average\n",
    "       Fa\tFair\n",
    "       Po\tPoor\n",
    "\n",
    "TotRmsAbvGrd: Total rooms above grade (does not include bathrooms)\n",
    "\n",
    "Functional: Home functionality (Assume typical unless deductions are warranted)\n",
    "\n",
    "       Typ\tTypical Functionality\n",
    "       Min1\tMinor Deductions 1\n",
    "       Min2\tMinor Deductions 2\n",
    "       Mod\tModerate Deductions\n",
    "       Maj1\tMajor Deductions 1\n",
    "       Maj2\tMajor Deductions 2\n",
    "       Sev\tSeverely Damaged\n",
    "       Sal\tSalvage only\n",
    "\n",
    "Fireplaces: Number of fireplaces\n",
    "\n",
    "FireplaceQu: Fireplace quality\n",
    "\n",
    "       Ex\tExcellent - Exceptional Masonry Fireplace\n",
    "       Gd\tGood - Masonry Fireplace in main level\n",
    "       TA\tAverage - Prefabricated Fireplace in main living area or Masonry Fireplace in basement\n",
    "       Fa\tFair - Prefabricated Fireplace in basement\n",
    "       Po\tPoor - Ben Franklin Stove\n",
    "       NA\tNo Fireplace\n",
    "\n",
    "GarageType: Garage location\n",
    "\n",
    "       2Types\tMore than one type of garage\n",
    "       Attchd\tAttached to home\n",
    "       Basment\tBasement Garage\n",
    "       BuiltIn\tBuilt-In (Garage part of house - typically has room above garage)\n",
    "       CarPort\tCar Port\n",
    "       Detchd\tDetached from home\n",
    "       NA\tNo Garage\n",
    "\n",
    "GarageYrBlt: Year garage was built\n",
    "\n",
    "GarageFinish: Interior finish of the garage\n",
    "\n",
    "       Fin\tFinished\n",
    "       RFn\tRough Finished\n",
    "       Unf\tUnfinished\n",
    "       NA\tNo Garage\n",
    "\n",
    "GarageCars: Size of garage in car capacity\n",
    "\n",
    "GarageArea: Size of garage in square feet\n",
    "\n",
    "GarageQual: Garage quality\n",
    "\n",
    "       Ex\tExcellent\n",
    "       Gd\tGood\n",
    "       TA\tTypical/Average\n",
    "       Fa\tFair\n",
    "       Po\tPoor\n",
    "       NA\tNo Garage\n",
    "\n",
    "GarageCond: Garage condition\n",
    "\n",
    "       Ex\tExcellent\n",
    "       Gd\tGood\n",
    "       TA\tTypical/Average\n",
    "       Fa\tFair\n",
    "       Po\tPoor\n",
    "       NA\tNo Garage\n",
    "\n",
    "PavedDrive: Paved driveway\n",
    "\n",
    "       Y\tPaved\n",
    "       P\tPartial Pavement\n",
    "       N\tDirt/Gravel\n",
    "\n",
    "WoodDeckSF: Wood deck area in square feet\n",
    "\n",
    "OpenPorchSF: Open porch area in square feet\n",
    "\n",
    "EnclosedPorch: Enclosed porch area in square feet\n",
    "\n",
    "3SsnPorch: Three season porch area in square feet\n",
    "\n",
    "ScreenPorch: Screen porch area in square feet\n",
    "\n",
    "PoolArea: Pool area in square feet\n",
    "\n",
    "PoolQC: Pool quality\n",
    "\n",
    "       Ex\tExcellent\n",
    "       Gd\tGood\n",
    "       TA\tAverage/Typical\n",
    "       Fa\tFair\n",
    "       NA\tNo Pool\n",
    "\n",
    "Fence: Fence quality\n",
    "\n",
    "       GdPrv\tGood Privacy\n",
    "       MnPrv\tMinimum Privacy\n",
    "       GdWo\tGood Wood\n",
    "       MnWw\tMinimum Wood/Wire\n",
    "       NA\tNo Fence\n",
    "\n",
    "MiscFeature: Miscellaneous feature not covered in other categories\n",
    "\n",
    "       Elev\tElevator\n",
    "       Gar2\t2nd Garage (if not described in garage section)\n",
    "       Othr\tOther\n",
    "       Shed\tShed (over 100 SF)\n",
    "       TenC\tTennis Court\n",
    "       NA\tNone\n",
    "\n",
    "MiscVal: $Value of miscellaneous feature\n",
    "\n",
    "MoSold: Month Sold (MM)\n",
    "\n",
    "YrSold: Year Sold (YYYY)\n",
    "\n",
    "SaleType: Type of sale\n",
    "\n",
    "       WD \tWarranty Deed - Conventional\n",
    "       CWD\tWarranty Deed - Cash\n",
    "       VWD\tWarranty Deed - VA Loan\n",
    "       New\tHome just constructed and sold\n",
    "       COD\tCourt Officer Deed/Estate\n",
    "       Con\tContract 15% Down payment regular terms\n",
    "       ConLw\tContract Low Down payment and low interest\n",
    "       ConLI\tContract Low Interest\n",
    "       ConLD\tContract Low Down\n",
    "       Oth\tOther\n",
    "\n",
    "SaleCondition: Condition of sale\n",
    "\n",
    "       Normal\tNormal Sale\n",
    "       Abnorml\tAbnormal Sale -  trade, foreclosure, short sale\n",
    "       AdjLand\tAdjoining Land Purchase\n",
    "       Alloca\tAllocation - two linked properties with separate deeds, typically condo with a garage unit\n",
    "       Family\tSale between family members\n",
    "       Partial\tHome was not completed when last assessed (associated with New Homes)\n"
   ]
  },
  {
   "cell_type": "markdown",
   "metadata": {
    "id": "lX4wgjaghPJA"
   },
   "source": [
    "# Reading, cleaning & splitting"
   ]
  },
  {
   "cell_type": "code",
   "execution_count": null,
   "metadata": {
    "executionInfo": {
     "elapsed": 1971,
     "status": "ok",
     "timestamp": 1697635097522,
     "user": {
      "displayName": "Andrey Voronchikhin",
      "userId": "15189776534540824821"
     },
     "user_tz": -120
    },
    "id": "SXF5wntWPu5G"
   },
   "outputs": [],
   "source": [
    "import pandas as pd\n",
    "from sklearn.model_selection import train_test_split, GridSearchCV\n",
    "from sklearn.impute import SimpleImputer\n",
    "from sklearn.tree import DecisionTreeClassifier\n",
    "from sklearn.metrics import accuracy_score\n",
    "from sklearn.pipeline import make_pipeline\n",
    "from sklearn.preprocessing import OneHotEncoder, OrdinalEncoder, StandardScaler, MinMaxScaler\n",
    "from sklearn.compose import ColumnTransformer\n",
    "from sklearn import set_config\n",
    "import warnings\n",
    "from google.colab import files\n",
    "\n",
    "warnings.filterwarnings('ignore')\n",
    "pd.set_option('display.max_columns', 20)\n",
    "\n",
    "url = '' # link to a csv-file on google drive\n",
    "path = 'https://drive.google.com/uc?export=download&id='+url.split('/')[-2]\n",
    "data_original = pd.read_csv(path)\n",
    "\n",
    "# drop some columns\n",
    "## 'Id' containd uniqe values only\n",
    "X = data_original.drop(columns=['Id'])\n",
    "y = X.pop('Expensive')\n",
    "\n",
    "X_train, X_test, y_train, y_test = train_test_split(X, y, \n",
    "                                                    test_size=0.2, \n",
    "                                                    # random_state=123\n",
    "                                                   )\n"
   ]
  },
  {
   "cell_type": "markdown",
   "metadata": {
    "id": "Og5YxYV5lKKp"
   },
   "source": [
    "## exploring data"
   ]
  },
  {
   "cell_type": "code",
   "execution_count": null,
   "metadata": {
    "id": "-y-v6EDjpVYB"
   },
   "outputs": [],
   "source": [
    "y_train.info()"
   ]
  },
  {
   "cell_type": "code",
   "execution_count": null,
   "metadata": {
    "colab": {
     "base_uri": "https://localhost:8080/"
    },
    "executionInfo": {
     "elapsed": 271,
     "status": "ok",
     "timestamp": 1690802172706,
     "user": {
      "displayName": "Andrey Voronchikhin",
      "userId": "15189776534540824821"
     },
     "user_tz": -120
    },
    "id": "ArJLVyYdl9E6",
    "outputId": "d37f47f6-de7b-499d-f370-a0a5840768da"
   },
   "outputs": [],
   "source": [
    "X_train.info()\n",
    "X_train.head()"
   ]
  },
  {
   "cell_type": "code",
   "execution_count": null,
   "metadata": {
    "colab": {
     "base_uri": "https://localhost:8080/"
    },
    "executionInfo": {
     "elapsed": 273,
     "status": "ok",
     "timestamp": 1697635105901,
     "user": {
      "displayName": "Andrey Voronchikhin",
      "userId": "15189776534540824821"
     },
     "user_tz": -120
    },
    "id": "ezi_ySZP_rfD",
    "outputId": "6f6830e5-6c14-48bd-aaad-e19ef295ae54"
   },
   "outputs": [],
   "source": [
    "y_train.value_counts(normalize=True)"
   ]
  },
  {
   "cell_type": "code",
   "execution_count": null,
   "metadata": {
    "colab": {
     "base_uri": "https://localhost:8080/"
    },
    "executionInfo": {
     "elapsed": 876,
     "status": "ok",
     "timestamp": 1697635109049,
     "user": {
      "displayName": "Andrey Voronchikhin",
      "userId": "15189776534540824821"
     },
     "user_tz": -120
    },
    "id": "nTjcZtHPYbhK",
    "outputId": "988f92d3-6d6d-46d3-89c9-3b97c742aa16"
   },
   "outputs": [],
   "source": [
    "# columns with NaN values\n",
    "data_original.loc[:, data_original.isnull().any()].info()"
   ]
  },
  {
   "cell_type": "code",
   "execution_count": null,
   "metadata": {
    "colab": {
     "base_uri": "https://localhost:8080/"
    },
    "executionInfo": {
     "elapsed": 260,
     "status": "ok",
     "timestamp": 1690745018913,
     "user": {
      "displayName": "Andrey Voronchikhin",
      "userId": "15189776534540824821"
     },
     "user_tz": -120
    },
    "id": "m3m3YYeeQHRe",
    "outputId": "a17de387-0dd7-4e96-e38f-e2025883b138"
   },
   "outputs": [],
   "source": [
    "data_original.loc[:, data_original.isnull().any()].columns"
   ]
  },
  {
   "cell_type": "code",
   "execution_count": null,
   "metadata": {
    "colab": {
     "base_uri": "https://localhost:8080/"
    },
    "executionInfo": {
     "elapsed": 6,
     "status": "ok",
     "timestamp": 1690647398034,
     "user": {
      "displayName": "Andrey Voronchikhin",
      "userId": "15189776534540824821"
     },
     "user_tz": -120
    },
    "id": "btWmvKeDaxY9",
    "outputId": "408fe24b-0cfd-4aed-f0f7-9e5d6fb7f2ee"
   },
   "outputs": [],
   "source": [
    "# NaN values in columns about garage\n",
    "data_original.loc[data_original['GarageYrBlt'].isnull()][['GarageYrBlt', 'GarageType', 'GarageFinish', 'GarageQual', 'GarageCond']].info()"
   ]
  },
  {
   "cell_type": "code",
   "execution_count": null,
   "metadata": {
    "colab": {
     "base_uri": "https://localhost:8080/"
    },
    "executionInfo": {
     "elapsed": 243,
     "status": "ok",
     "timestamp": 1690548998022,
     "user": {
      "displayName": "Andrey Voronchikhin",
      "userId": "15189776534540824821"
     },
     "user_tz": -120
    },
    "id": "TeturkSfeJsn",
    "outputId": "be8fd4f4-996d-4140-dad8-aa0e5b23c0d4"
   },
   "outputs": [],
   "source": [
    "# looking for columns with unique values only - to drop them\n",
    "data_original.nunique().sort_values(ascending=False)"
   ]
  },
  {
   "cell_type": "code",
   "execution_count": null,
   "metadata": {
    "colab": {
     "base_uri": "https://localhost:8080/",
     "height": 269
    },
    "executionInfo": {
     "elapsed": 277,
     "status": "ok",
     "timestamp": 1690648063475,
     "user": {
      "displayName": "Andrey Voronchikhin",
      "userId": "15189776534540824821"
     },
     "user_tz": -120
    },
    "id": "vpKfehF-dswT",
    "outputId": "c9ed2518-123a-458d-b435-5961c7ae9375"
   },
   "outputs": [],
   "source": [
    "data_original.loc[data_original['PoolArea'] != 0][['PoolArea', 'PoolQC', 'Expensive']]"
   ]
  },
  {
   "cell_type": "code",
   "execution_count": null,
   "metadata": {
    "colab": {
     "base_uri": "https://localhost:8080/"
    },
    "executionInfo": {
     "elapsed": 289,
     "status": "ok",
     "timestamp": 1690725433364,
     "user": {
      "displayName": "Andrey Voronchikhin",
      "userId": "15189776534540824821"
     },
     "user_tz": -120
    },
    "id": "6ZtisR-6Au9Q",
    "outputId": "1434ef33-6030-40db-da33-76aca423efd0"
   },
   "outputs": [],
   "source": [
    "data_original['Electrical'].value_counts(normalize=True)"
   ]
  },
  {
   "cell_type": "code",
   "execution_count": null,
   "metadata": {
    "colab": {
     "base_uri": "https://localhost:8080/",
     "height": 363
    },
    "executionInfo": {
     "elapsed": 480,
     "status": "ok",
     "timestamp": 1690725434837,
     "user": {
      "displayName": "Andrey Voronchikhin",
      "userId": "15189776534540824821"
     },
     "user_tz": -120
    },
    "id": "fMt5NfQDEyCn",
    "outputId": "6a3de503-8553-470b-9e79-458727a27ab9"
   },
   "outputs": [],
   "source": [
    "data_original.sort_values('PoolQC', ascending=False)[['PoolQC', 'Expensive']].head(10)"
   ]
  },
  {
   "cell_type": "code",
   "execution_count": null,
   "metadata": {
    "id": "-Tpg_IvluVNU"
   },
   "outputs": [],
   "source": [
    "data_original.loc[data_original['PoolArea'] == 0].count()"
   ]
  },
  {
   "cell_type": "markdown",
   "metadata": {
    "id": "bGFeK-EHdL-e"
   },
   "source": [
    "## plots"
   ]
  },
  {
   "cell_type": "code",
   "execution_count": null,
   "metadata": {
    "colab": {
     "base_uri": "https://localhost:8080/",
     "height": 638
    },
    "executionInfo": {
     "elapsed": 1021,
     "status": "error",
     "timestamp": 1690727579219,
     "user": {
      "displayName": "Andrey Voronchikhin",
      "userId": "15189776534540824821"
     },
     "user_tz": -120
    },
    "id": "93MfSTgCXMFB",
    "outputId": "3c5d703c-9c08-42aa-da6b-2c4fe1448cb2"
   },
   "outputs": [],
   "source": [
    "feature_1 = 'LotArea'\n",
    "feature_2 = 'LotFrontage'\n",
    "\n",
    "import seaborn as sns\n",
    "\n",
    "sns.scatterplot(data=data_original, x=feature_1, y=feature_2)\n",
    "# plt.title(f'Looking for a relation of {x} and {y}')\n",
    "plt.show()"
   ]
  },
  {
   "cell_type": "markdown",
   "metadata": {
    "id": "FgUZ12mTZpNR"
   },
   "source": [
    "# Preprocessing pipeline"
   ]
  },
  {
   "cell_type": "markdown",
   "metadata": {
    "id": "6bO5Oun3lA_t",
    "jp-MarkdownHeadingCollapsed": true,
    "tags": []
   },
   "source": [
    "## Columns for NaN values"
   ]
  },
  {
   "cell_type": "markdown",
   "metadata": {
    "id": "F8DRe-s8VX7E"
   },
   "source": [
    "'LotFrontage', mean/median\n",
    "\n",
    "'BsmtQual'   NA:\tNo Basement\n",
    "\n",
    "'BsmtCond', NA\tNo Basement\n",
    "\n",
    "'BsmtExposure', NA\tNo Basement\n",
    "\n",
    "'BsmtFinType1', NA\tNo Basement\n",
    "\n",
    "'FireplaceQu', NA\tNo Fireplace\n",
    "\n",
    "'MasVnrArea': Masonry veneer area in square feet\n",
    "\n",
    "    `mean/median/most frequent (8 NaN values)?`\n",
    "\n",
    "\n",
    "'MasVnrType': Masonry veneer type\n",
    "\n",
    "       BrkCmn\tBrick Common\n",
    "       BrkFace\tBrick Face\n",
    "       CBlock\tCinder Block\n",
    "       None\tNone\n",
    "       Stone\tStone\n",
    "\n",
    "\n",
    "\n",
    "'Alley':  NA \tNo alley access\n",
    "\n",
    "\n",
    "'BsmtFinType2', NA\tNo Basement\n",
    "\n",
    "'Electrical', most frequent\n",
    "\n",
    "'GarageType', NA\tNo Garage\n",
    "\n",
    "'GarageFinish', NA\tNo Garage\n",
    "\n",
    "'GarageQual', NA\tNo Garage\n",
    "\n",
    "'GarageCond', NA\tNo Garage\n",
    "'GarageYrBlt', Year garage was built\n",
    "    \n",
    "    replace NaN with 'No Garage'\n",
    "\n",
    "'PoolQC',   NA\tNo Pool\n",
    "\n",
    "'Fence',        NA\tNo Fence\n",
    "\n",
    "'MiscFeature'   NA\tNone"
   ]
  },
  {
   "cell_type": "markdown",
   "metadata": {
    "id": "vwSsCT3YlyK3"
   },
   "source": [
    "## Code"
   ]
  },
  {
   "cell_type": "code",
   "execution_count": null,
   "metadata": {
    "colab": {
     "base_uri": "https://localhost:8080/",
     "height": 219
    },
    "executionInfo": {
     "elapsed": 713,
     "status": "ok",
     "timestamp": 1697635143727,
     "user": {
      "displayName": "Andrey Voronchikhin",
      "userId": "15189776534540824821"
     },
     "user_tz": -120
    },
    "id": "XbGielXObQir",
    "outputId": "5aba163a-db5b-46b9-af6c-7c010cd3f68d"
   },
   "outputs": [],
   "source": [
    "X_cat = X.select_dtypes(exclude='number').copy()\n",
    "X_num = X.select_dtypes(include='number').copy()\n",
    "\n",
    "# numerical brunch\n",
    "num_constant_cols = ['GarageYrBlt']\n",
    "num_mean_median_cols = list(X_num.drop(columns = num_constant_cols))\n",
    "\n",
    "numeric_imputer = ColumnTransformer(\n",
    "    transformers=[\n",
    "        ('num_median',\n",
    "         SimpleImputer(strategy='median'),\n",
    "         num_mean_median_cols),\n",
    "        ('num_constant',\n",
    "         SimpleImputer(strategy='constant', fill_value=0),\n",
    "         num_constant_cols)\n",
    "    ]\n",
    ")\n",
    "\n",
    "num_pipe = make_pipeline(SimpleImputer(), MinMaxScaler())\n",
    "\n",
    "# categorical brunch\n",
    "\n",
    "cat_nan_frequent_list = ['MasVnrType', 'Electrical', 'Utilities',\n",
    "                         'ExterQual', 'HeatingQC', 'ExterCond',\n",
    "                         'KitchenQual', 'Functional', 'LandSlope',\n",
    "                         'CentralAir']\n",
    "\n",
    "cat_nan_frequent_cols = X_cat.columns.get_indexer(cat_nan_frequent_list)\n",
    "\n",
    "# cat_nan_fill_cols = ['BsmtQual', 'BsmtCond', 'BsmtExposure', 'BsmtFinType1',\n",
    "#                      'FireplaceQu', 'Alley',\n",
    "#                      'BsmtFinType2', 'GarageType', 'GarageFinish',\n",
    "#                      'GarageQual', 'GarageCond', 'PoolQC', 'Fence', 'MiscFeature']\n",
    "\n",
    "# below should be all columns besides 'cat_nan_frequent_cols'\n",
    "# in case NaN in them will appear in future (i.e. in examination dataset)\n",
    "\n",
    "cat_nan_fill_cols = list(X_cat.drop(X_cat.columns[cat_nan_frequent_cols], axis = 1))\n",
    "\n",
    "# strategy 'most_frequent' seems to work incorrectly, therefore 'N_A' is needed in columns like ExterQual below\n",
    "categorical_imputer = ColumnTransformer(\n",
    "    transformers=[\n",
    "        ('cat_nan_frequent', SimpleImputer(strategy='most_frequent'), cat_nan_frequent_cols),\n",
    "        ('cat_nan_fill', SimpleImputer(strategy='constant', fill_value='N_A'), cat_nan_fill_cols)\n",
    "        ]\n",
    ")\n",
    "\n",
    "cat_ordinal_list = ['ExterQual', 'ExterCond', 'BsmtQual', 'BsmtCond',\n",
    "                    'BsmtExposure', 'HeatingQC', 'KitchenQual', 'Functional',\n",
    "                    'FireplaceQu', 'GarageQual', 'GarageCond', 'PoolQC',\n",
    "                    'Fence', 'Utilities', 'LandSlope', 'BsmtFinType1',\n",
    "                    'BsmtFinType2', 'CentralAir', 'GarageFinish']\n",
    "\n",
    "cat_ordinal_cols = X_cat.columns.get_indexer(cat_ordinal_list)\n",
    "\n",
    "# \"N_A\" everywhere here helped, though imputer should theoretically avoid NaN to appear\n",
    "ordinal_features_categories = [['Ex', 'Gd', 'TA', 'Fa', 'Po', 'N_A'],  # ExterQual\n",
    "                               ['Ex', 'Gd', 'TA', 'Fa', 'Po', 'N_A'],  # ExterCond\n",
    "                               ['Ex', 'Gd', 'TA', 'Fa', 'Po', 'N_A'],  # BsmtQual\n",
    "                               ['Ex', 'Gd', 'TA', 'Fa', 'Po', 'N_A'],  # BsmtCond\n",
    "                               ['Gd', 'Av', 'Mn', 'No', 'N_A'],        # BsmtExposure\n",
    "                               ['Ex', 'Gd', 'TA', 'Fa', 'Po', 'N_A'],  # HeatingQC\n",
    "                               ['Ex', 'Gd', 'TA', 'Fa', 'Po', 'N_A'],  # KitchenQual\n",
    "                               ['Typ', 'Min1', 'Min2', 'Mod', 'Maj1', \n",
    "                                'Maj2', 'Sev', 'Sal', 'N_A'],          # Functional\n",
    "                               ['Ex', 'Gd', 'TA', 'Fa', 'Po', 'N_A'],  # FireplaceQu\n",
    "                               ['Ex', 'Gd', 'TA', 'Fa', 'Po', 'N_A'],  # GarageQual\n",
    "                               ['Ex', 'Gd', 'TA', 'Fa', 'Po', 'N_A'],  # GarageCond\n",
    "                               ['Ex', 'Gd', 'TA', 'Fa', 'Po', 'N_A'],  # PoolQC\n",
    "                               ['GdPrv', 'MnPrv', 'GdWo', 'MnWw', 'N_A'],  # Fence\n",
    "                               ['AllPub', 'NoSewr', 'NoSeWa', 'ELO', 'N_A'],  # Utilities\n",
    "                               ['Gtl', 'Mod', 'Sev', 'N_A'],           # LandSlope\n",
    "                               ['GLQ', 'ALQ', 'BLQ', 'Rec', 'LwQ', 'Unf', 'N_A'],  # BsmtFinType1\n",
    "                               ['GLQ', 'ALQ', 'BLQ', 'Rec', 'LwQ', 'Unf', 'N_A'],   # BsmtFinType2\n",
    "                               ['Y', 'N', 'N_A'],                      # CentralAir\n",
    "                               ['Fin', 'RFn', 'Unf', 'N_A']]           # GarageFinish\n",
    "\n",
    "cat_onehot_list = list(X_cat.drop(X_cat.columns[cat_ordinal_cols], axis = 1))\n",
    "cat_onehot_cols = X_cat.columns.get_indexer(cat_onehot_list)\n",
    "\n",
    "categorical_encoder = ColumnTransformer(\n",
    "    transformers=[\n",
    "        ('cat_ordinal',\n",
    "         OrdinalEncoder(categories = ordinal_features_categories),\n",
    "         cat_ordinal_cols),\n",
    "        ('cat_onehot',\n",
    "         OneHotEncoder(handle_unknown='ignore'),\n",
    "         cat_onehot_cols)\n",
    "    ]\n",
    ")\n",
    "\n",
    "cat_pipe = make_pipeline(SimpleImputer(strategy='constant', fill_value='N_A'),\n",
    "                         categorical_encoder)\n",
    "\n",
    "# preprocessing pipe for all columns\n",
    "full_preprocessor = ColumnTransformer(\n",
    "    transformers=[\n",
    "        ('num_pipe', num_pipe, X_num.columns),\n",
    "        ('cat_pipe', cat_pipe, X_cat.columns),\n",
    "    ]\n",
    ")\n",
    "\n",
    "set_config(display='diagram')\n",
    "\n",
    "full_preprocessor\n",
    "full_preprocessor.fit(X_train)"
   ]
  },
  {
   "cell_type": "markdown",
   "metadata": {
    "id": "fWQJzpNcZpHG"
   },
   "source": [
    "# Models"
   ]
  },
  {
   "cell_type": "markdown",
   "metadata": {
    "id": "XCWnwmFgWuBt"
   },
   "source": [
    "### Decision tree"
   ]
  },
  {
   "cell_type": "code",
   "execution_count": null,
   "metadata": {
    "colab": {
     "base_uri": "https://localhost:8080/"
    },
    "executionInfo": {
     "elapsed": 33780,
     "status": "ok",
     "timestamp": 1691154526165,
     "user": {
      "displayName": "Andrey Voronchikhin",
      "userId": "15189776534540824821"
     },
     "user_tz": -120
    },
    "id": "qnHHJghnbP2I",
    "outputId": "1326a45f-4e8a-4a81-a554-3dae75e1cc3f"
   },
   "outputs": [],
   "source": [
    "# full pipeline: preprocessor + model\n",
    "full_pipeline = make_pipeline(full_preprocessor,\n",
    "                              DecisionTreeClassifier())\n",
    "\n",
    "# define parameter grid\n",
    "dt_param_grid = {\n",
    "    'columntransformer__num_pipe__simpleimputer__strategy': ['mean', 'median'],\n",
    "    'decisiontreeclassifier__max_depth': range(3, 8, 1),\n",
    "    'decisiontreeclassifier__min_samples_leaf': range(1, 10, 1),\n",
    "    # 'decisiontreeclassifier__min_samples_split': range(2, 30, 2),\n",
    "    'decisiontreeclassifier__criterion':['gini']\n",
    "}\n",
    "\n",
    "# define GridSearchCV\n",
    "dt_search = GridSearchCV(full_pipeline,\n",
    "                         dt_param_grid,\n",
    "                         cv=5,\n",
    "                         verbose=1,\n",
    "                         error_score='raise')\n",
    "\n",
    "dt_search.fit(X_train, y_train)\n",
    "\n",
    "y_test_pred = dt_search.predict(X_test)\n",
    "print(f'The best average score in GridSearchCV: {dt_search.best_score_}')\n",
    "print(f'The best parameters in GridSearchCV: {dt_search.best_params_}')\n",
    "print(f'The test accuracy: {accuracy_score(y_test_pred, y_test)}')"
   ]
  },
  {
   "cell_type": "markdown",
   "metadata": {
    "id": "p-kVigE_W9NR"
   },
   "source": [
    "### Random forest"
   ]
  },
  {
   "cell_type": "code",
   "execution_count": null,
   "metadata": {
    "colab": {
     "base_uri": "https://localhost:8080/"
    },
    "executionInfo": {
     "elapsed": 61420,
     "status": "ok",
     "timestamp": 1697635434703,
     "user": {
      "displayName": "Andrey Voronchikhin",
      "userId": "15189776534540824821"
     },
     "user_tz": -120
    },
    "id": "9GzKZCAuWjBn",
    "outputId": "d402c950-5b4d-4034-e47a-1b794fd956af"
   },
   "outputs": [],
   "source": [
    "from sklearn.ensemble import RandomForestClassifier\n",
    "# full pipeline: preprocessor + model\n",
    "full_pipeline = make_pipeline(full_preprocessor,\n",
    "                              RandomForestClassifier())\n",
    "\n",
    "# main parameters of RandomForestClassifier\n",
    "# n_estimators: Number of trees in the forest (default=100)\n",
    "# max_depth: Maximum depth of each decision tree (default=None, which means the tree expands until all leaves are pure)\n",
    "# min_samples_split: Minimum number of samples required to split an internal node (default=2)\n",
    "# min_samples_leaf: Minimum number of samples required to be at a leaf node (default=1)\n",
    "# max_features: The number of features to consider when looking for the best split (default=\"auto\", which is equivalent to sqrt(n_features))\n",
    "# random_state: Seed for random number generator (optional, used to ensure reproducibility)\n",
    "# n_jobs: Number of CPU cores to use for parallelizing the training process (default=1, -1 means all available cores)\n",
    "\n",
    "# define parameter grid\n",
    "rf_param_grid = {\n",
    "    'randomforestclassifier__n_estimators': range(120, 170, 20),\n",
    "    'randomforestclassifier__max_depth': range(6, 11, 1),\n",
    "    'randomforestclassifier__min_samples_split': range(1, 4, 1),\n",
    "    # 'randomforestclassifier__min_samples_leaf': range(1, 8, 1),\n",
    "    # 'randomforestclassifier__max_features': ['auto', 'sqrt']\n",
    "    }\n",
    "\n",
    "# define GridSearchCV\n",
    "rf_search = GridSearchCV(full_pipeline,\n",
    "                         param_grid=rf_param_grid,\n",
    "                         cv=5,\n",
    "                         n_jobs=2,\n",
    "                         verbose=1\n",
    "                         # error_score='raise'\n",
    "                        )\n",
    "\n",
    "rf_search.fit(X_train, y_train)\n",
    "\n",
    "y_test_pred = rf_search.predict(X_test)\n",
    "print(f'The best average score in GridSearchCV: {rf_search.best_score_}')\n",
    "print(f'The best parameters in GridSearchCV: {rf_search.best_params_}')\n",
    "print(f'The test accuracy: {accuracy_score(y_test_pred, y_test)}')"
   ]
  },
  {
   "cell_type": "code",
   "execution_count": null,
   "metadata": {
    "id": "Bdn0x74ZXeD_"
   },
   "outputs": [],
   "source": []
  },
  {
   "cell_type": "code",
   "execution_count": null,
   "metadata": {
    "colab": {
     "base_uri": "https://localhost:8080/"
    },
    "executionInfo": {
     "elapsed": 365,
     "status": "ok",
     "timestamp": 1690815478642,
     "user": {
      "displayName": "Andrey Voronchikhin",
      "userId": "15189776534540824821"
     },
     "user_tz": -120
    },
    "id": "UiSQgA_YZKub",
    "outputId": "e2a289f1-28b1-4db6-e526-f80146a29a2d"
   },
   "outputs": [],
   "source": [
    "accuracy_score(knn_search.predict(X_test), y_test)"
   ]
  },
  {
   "cell_type": "markdown",
   "metadata": {
    "id": "QtgoXum8Zo_h"
   },
   "source": [
    "## Error Analysis"
   ]
  },
  {
   "cell_type": "code",
   "execution_count": null,
   "metadata": {
    "id": "v_RySggizM--"
   },
   "outputs": [],
   "source": [
    "# plot conversion matrix \n",
    "from sklearn.metrics import ConfusionMatrixDisplay\n",
    "\n",
    "ConfusionMatrixDisplay.from_estimator(dt_search,\n",
    "                                      X_test,\n",
    "                                      y_test,\n",
    "                                      display_labels=['Not Survied', 'Survived']);"
   ]
  },
  {
   "cell_type": "markdown",
   "metadata": {
    "id": "T1I2r6_2Zoxw"
   },
   "source": [
    "# NEW DATASET PREDICTION USING RandomForestClassifier"
   ]
  },
  {
   "cell_type": "code",
   "execution_count": null,
   "metadata": {
    "colab": {
     "base_uri": "https://localhost:8080/"
    },
    "executionInfo": {
     "elapsed": 828,
     "status": "ok",
     "timestamp": 1697635667863,
     "user": {
      "displayName": "Andrey Voronchikhin",
      "userId": "15189776534540824821"
     },
     "user_tz": -120
    },
    "id": "7yDwhTHTPuIY",
    "outputId": "b17a51b3-243e-403f-d5cf-c574788f6387"
   },
   "outputs": [],
   "source": [
    "url_prod = '' # link to a csv-file on google drive\n",
    "path_prod = 'https://drive.google.com/uc?export=download&id='+url_prod.split('/')[-2]\n",
    "data_prod_original = pd.read_csv(path_prod)\n",
    "\n",
    "X_prod = data_prod_original.copy()\n",
    "df_predict = X_prod.pop('Id').to_frame()\n",
    "\n",
    "X_prod.info()"
   ]
  },
  {
   "cell_type": "code",
   "execution_count": null,
   "metadata": {
    "colab": {
     "base_uri": "https://localhost:8080/"
    },
    "executionInfo": {
     "elapsed": 265,
     "status": "ok",
     "timestamp": 1697635671646,
     "user": {
      "displayName": "Andrey Voronchikhin",
      "userId": "15189776534540824821"
     },
     "user_tz": -120
    },
    "id": "x4FJWE0diF2t",
    "outputId": "1880ab37-0c6d-4e10-ada3-67d5b3aa0fb8"
   },
   "outputs": [],
   "source": [
    "X_prod.loc[:, X_prod.isnull().any()].info()"
   ]
  },
  {
   "cell_type": "code",
   "execution_count": null,
   "metadata": {
    "executionInfo": {
     "elapsed": 1,
     "status": "ok",
     "timestamp": 1697635674402,
     "user": {
      "displayName": "Andrey Voronchikhin",
      "userId": "15189776534540824821"
     },
     "user_tz": -120
    },
    "id": "gShkrwBQgzZ0"
   },
   "outputs": [],
   "source": [
    "X_prod_imputed = full_preprocessor.fit_transform(X_prod)"
   ]
  },
  {
   "cell_type": "code",
   "execution_count": null,
   "metadata": {
    "colab": {
     "base_uri": "https://localhost:8080/"
    },
    "executionInfo": {
     "elapsed": 3,
     "status": "ok",
     "timestamp": 1697635674697,
     "user": {
      "displayName": "Andrey Voronchikhin",
      "userId": "15189776534540824821"
     },
     "user_tz": -120
    },
    "id": "HA59IFbcfAvg",
    "outputId": "1cf765ba-d521-4f89-af67-305bedac6162"
   },
   "outputs": [],
   "source": [
    "df_predict.info()"
   ]
  },
  {
   "cell_type": "code",
   "execution_count": null,
   "metadata": {
    "colab": {
     "base_uri": "https://localhost:8080/",
     "height": 424
    },
    "executionInfo": {
     "elapsed": 7,
     "status": "ok",
     "timestamp": 1697635675816,
     "user": {
      "displayName": "Andrey Voronchikhin",
      "userId": "15189776534540824821"
     },
     "user_tz": -120
    },
    "id": "BSZfc0-pXx10",
    "outputId": "8468d0f3-8ba7-4410-ab04-e78bbb066351"
   },
   "outputs": [],
   "source": [
    "y_predict = rf_search.predict(X_prod)\n",
    "\n",
    "df_predict['Expensive'] = y_predict\n",
    "df_predict"
   ]
  },
  {
   "cell_type": "markdown",
   "metadata": {
    "id": "0MPG1oTatxgk"
   },
   "source": [
    "# Download the datframe with predictions"
   ]
  },
  {
   "cell_type": "code",
   "execution_count": null,
   "metadata": {
    "colab": {
     "base_uri": "https://localhost:8080/",
     "height": 17
    },
    "executionInfo": {
     "elapsed": 253,
     "status": "ok",
     "timestamp": 1690915007635,
     "user": {
      "displayName": "Andrey Voronchikhin",
      "userId": "15189776534540824821"
     },
     "user_tz": -120
    },
    "id": "gZubzWEHXxrq",
    "outputId": "6aa50ca2-7a6b-4b98-ba1b-4e682ec41b99"
   },
   "outputs": [],
   "source": [
    "output_path = 'prediction.csv'\n",
    "df_predict.to_csv(output_path, index=False)\n",
    "files.download('prediction.csv')"
   ]
  },
  {
   "cell_type": "code",
   "execution_count": null,
   "metadata": {
    "id": "HtQXG7VoXxXx"
   },
   "outputs": [],
   "source": []
  }
 ],
 "metadata": {
  "colab": {
   "authorship_tag": "ABX9TyPDQBfrM3C04mnIno38MiVA",
   "collapsed_sections": [
    "1GQ10enXRUpe",
    "bGFeK-EHdL-e",
    "6bO5Oun3lA_t",
    "NHq8fNVbXeuT",
    "QtgoXum8Zo_h"
   ],
   "provenance": [],
   "toc_visible": true
  },
  "kernelspec": {
   "display_name": "Python 3 (ipykernel)",
   "language": "python",
   "name": "python3"
  },
  "language_info": {
   "codemirror_mode": {
    "name": "ipython",
    "version": 3
   },
   "file_extension": ".py",
   "mimetype": "text/x-python",
   "name": "python",
   "nbconvert_exporter": "python",
   "pygments_lexer": "ipython3",
   "version": "3.11.4"
  }
 },
 "nbformat": 4,
 "nbformat_minor": 4
}
